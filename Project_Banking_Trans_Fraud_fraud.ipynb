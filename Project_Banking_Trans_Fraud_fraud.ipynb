{
  "nbformat": 4,
  "nbformat_minor": 0,
  "metadata": {
    "colab": {
      "name": "Project Banking Trans_Fraud fraud.ipynb",
      "provenance": [],
      "collapsed_sections": []
    },
    "kernelspec": {
      "name": "python3",
      "display_name": "Python 3"
    },
    "language_info": {
      "name": "python"
    },
    "accelerator": "GPU"
  },
  "cells": [
    {
      "cell_type": "code",
      "metadata": {
        "id": "xXHlJR7yQmyo"
      },
      "source": [
        "import numpy as np\n",
        "import pandas as pd\n",
        "import tensorflow as tf\n",
        "from sklearn.utils import shuffle\n",
        "from sklearn.preprocessing import MinMaxScaler \n",
        "from keras.layers import Dense\n",
        "from keras.layers import Dropout\n",
        "import seaborn as sn\n",
        "import matplotlib as pt\n"
      ],
      "execution_count": 37,
      "outputs": []
    },
    {
      "cell_type": "markdown",
      "metadata": {
        "id": "S5Tp4_3E2c7C"
      },
      "source": [
        "Compiled by:\n",
        "1.  Perceviarance Chitima R195807D\n",
        "2. Emmanuel Banda R197226Y\n",
        "3. Agness Mashonganyika R195845Q\n",
        "\n",
        "                Credit card fraud Detection\n",
        "                "
      ]
    },
    {
      "cell_type": "code",
      "metadata": {
        "id": "jhDhSWIcQ1Ie",
        "colab": {
          "base_uri": "https://localhost:8080/"
        },
        "outputId": "a95d979d-0569-4f4a-c589-b7910ce121e7"
      },
      "source": [
        "from keras.models import Sequential\n",
        "from google.colab import drive\n",
        "drive.mount('/content/drive') "
      ],
      "execution_count": 38,
      "outputs": [
        {
          "output_type": "stream",
          "text": [
            "Drive already mounted at /content/drive; to attempt to forcibly remount, call drive.mount(\"/content/drive\", force_remount=True).\n"
          ],
          "name": "stdout"
        }
      ]
    },
    {
      "cell_type": "code",
      "metadata": {
        "id": "a1gQ8hogRB2w"
      },
      "source": [
        "df_full =pd.read_csv('/content/drive/My Drive/Colab Notebooks/creditcard.csv')"
      ],
      "execution_count": 39,
      "outputs": []
    },
    {
      "cell_type": "code",
      "metadata": {
        "id": "JOXDYC0LTHIf",
        "colab": {
          "base_uri": "https://localhost:8080/",
          "height": 317
        },
        "outputId": "ec4ed7ed-8b0f-485d-c699-e86608dd3b56"
      },
      "source": [
        "df_full.describe()"
      ],
      "execution_count": 40,
      "outputs": [
        {
          "output_type": "execute_result",
          "data": {
            "text/html": [
              "<div>\n",
              "<style scoped>\n",
              "    .dataframe tbody tr th:only-of-type {\n",
              "        vertical-align: middle;\n",
              "    }\n",
              "\n",
              "    .dataframe tbody tr th {\n",
              "        vertical-align: top;\n",
              "    }\n",
              "\n",
              "    .dataframe thead th {\n",
              "        text-align: right;\n",
              "    }\n",
              "</style>\n",
              "<table border=\"1\" class=\"dataframe\">\n",
              "  <thead>\n",
              "    <tr style=\"text-align: right;\">\n",
              "      <th></th>\n",
              "      <th>Time</th>\n",
              "      <th>V1</th>\n",
              "      <th>V2</th>\n",
              "      <th>V3</th>\n",
              "      <th>V4</th>\n",
              "      <th>V5</th>\n",
              "      <th>V6</th>\n",
              "      <th>V7</th>\n",
              "      <th>V8</th>\n",
              "      <th>V9</th>\n",
              "      <th>V10</th>\n",
              "      <th>V11</th>\n",
              "      <th>V12</th>\n",
              "      <th>V13</th>\n",
              "      <th>V14</th>\n",
              "      <th>V15</th>\n",
              "      <th>V16</th>\n",
              "      <th>V17</th>\n",
              "      <th>V18</th>\n",
              "      <th>V19</th>\n",
              "      <th>V20</th>\n",
              "      <th>V21</th>\n",
              "      <th>V22</th>\n",
              "      <th>V23</th>\n",
              "      <th>V24</th>\n",
              "      <th>V25</th>\n",
              "      <th>V26</th>\n",
              "      <th>V27</th>\n",
              "      <th>V28</th>\n",
              "      <th>Amount</th>\n",
              "      <th>Class</th>\n",
              "    </tr>\n",
              "  </thead>\n",
              "  <tbody>\n",
              "    <tr>\n",
              "      <th>count</th>\n",
              "      <td>284807.000000</td>\n",
              "      <td>2.848070e+05</td>\n",
              "      <td>2.848070e+05</td>\n",
              "      <td>2.848070e+05</td>\n",
              "      <td>2.848070e+05</td>\n",
              "      <td>2.848070e+05</td>\n",
              "      <td>2.848070e+05</td>\n",
              "      <td>2.848070e+05</td>\n",
              "      <td>2.848070e+05</td>\n",
              "      <td>2.848070e+05</td>\n",
              "      <td>2.848070e+05</td>\n",
              "      <td>2.848070e+05</td>\n",
              "      <td>2.848070e+05</td>\n",
              "      <td>2.848070e+05</td>\n",
              "      <td>2.848070e+05</td>\n",
              "      <td>2.848070e+05</td>\n",
              "      <td>2.848070e+05</td>\n",
              "      <td>2.848070e+05</td>\n",
              "      <td>2.848070e+05</td>\n",
              "      <td>2.848070e+05</td>\n",
              "      <td>2.848070e+05</td>\n",
              "      <td>2.848070e+05</td>\n",
              "      <td>2.848070e+05</td>\n",
              "      <td>2.848070e+05</td>\n",
              "      <td>2.848070e+05</td>\n",
              "      <td>2.848070e+05</td>\n",
              "      <td>2.848070e+05</td>\n",
              "      <td>2.848070e+05</td>\n",
              "      <td>2.848070e+05</td>\n",
              "      <td>284807.000000</td>\n",
              "      <td>284807.000000</td>\n",
              "    </tr>\n",
              "    <tr>\n",
              "      <th>mean</th>\n",
              "      <td>94813.859575</td>\n",
              "      <td>3.919560e-15</td>\n",
              "      <td>5.688174e-16</td>\n",
              "      <td>-8.769071e-15</td>\n",
              "      <td>2.782312e-15</td>\n",
              "      <td>-1.552563e-15</td>\n",
              "      <td>2.010663e-15</td>\n",
              "      <td>-1.694249e-15</td>\n",
              "      <td>-1.927028e-16</td>\n",
              "      <td>-3.137024e-15</td>\n",
              "      <td>1.768627e-15</td>\n",
              "      <td>9.170318e-16</td>\n",
              "      <td>-1.810658e-15</td>\n",
              "      <td>1.693438e-15</td>\n",
              "      <td>1.479045e-15</td>\n",
              "      <td>3.482336e-15</td>\n",
              "      <td>1.392007e-15</td>\n",
              "      <td>-7.528491e-16</td>\n",
              "      <td>4.328772e-16</td>\n",
              "      <td>9.049732e-16</td>\n",
              "      <td>5.085503e-16</td>\n",
              "      <td>1.537294e-16</td>\n",
              "      <td>7.959909e-16</td>\n",
              "      <td>5.367590e-16</td>\n",
              "      <td>4.458112e-15</td>\n",
              "      <td>1.453003e-15</td>\n",
              "      <td>1.699104e-15</td>\n",
              "      <td>-3.660161e-16</td>\n",
              "      <td>-1.206049e-16</td>\n",
              "      <td>88.349619</td>\n",
              "      <td>0.001727</td>\n",
              "    </tr>\n",
              "    <tr>\n",
              "      <th>std</th>\n",
              "      <td>47488.145955</td>\n",
              "      <td>1.958696e+00</td>\n",
              "      <td>1.651309e+00</td>\n",
              "      <td>1.516255e+00</td>\n",
              "      <td>1.415869e+00</td>\n",
              "      <td>1.380247e+00</td>\n",
              "      <td>1.332271e+00</td>\n",
              "      <td>1.237094e+00</td>\n",
              "      <td>1.194353e+00</td>\n",
              "      <td>1.098632e+00</td>\n",
              "      <td>1.088850e+00</td>\n",
              "      <td>1.020713e+00</td>\n",
              "      <td>9.992014e-01</td>\n",
              "      <td>9.952742e-01</td>\n",
              "      <td>9.585956e-01</td>\n",
              "      <td>9.153160e-01</td>\n",
              "      <td>8.762529e-01</td>\n",
              "      <td>8.493371e-01</td>\n",
              "      <td>8.381762e-01</td>\n",
              "      <td>8.140405e-01</td>\n",
              "      <td>7.709250e-01</td>\n",
              "      <td>7.345240e-01</td>\n",
              "      <td>7.257016e-01</td>\n",
              "      <td>6.244603e-01</td>\n",
              "      <td>6.056471e-01</td>\n",
              "      <td>5.212781e-01</td>\n",
              "      <td>4.822270e-01</td>\n",
              "      <td>4.036325e-01</td>\n",
              "      <td>3.300833e-01</td>\n",
              "      <td>250.120109</td>\n",
              "      <td>0.041527</td>\n",
              "    </tr>\n",
              "    <tr>\n",
              "      <th>min</th>\n",
              "      <td>0.000000</td>\n",
              "      <td>-5.640751e+01</td>\n",
              "      <td>-7.271573e+01</td>\n",
              "      <td>-4.832559e+01</td>\n",
              "      <td>-5.683171e+00</td>\n",
              "      <td>-1.137433e+02</td>\n",
              "      <td>-2.616051e+01</td>\n",
              "      <td>-4.355724e+01</td>\n",
              "      <td>-7.321672e+01</td>\n",
              "      <td>-1.343407e+01</td>\n",
              "      <td>-2.458826e+01</td>\n",
              "      <td>-4.797473e+00</td>\n",
              "      <td>-1.868371e+01</td>\n",
              "      <td>-5.791881e+00</td>\n",
              "      <td>-1.921433e+01</td>\n",
              "      <td>-4.498945e+00</td>\n",
              "      <td>-1.412985e+01</td>\n",
              "      <td>-2.516280e+01</td>\n",
              "      <td>-9.498746e+00</td>\n",
              "      <td>-7.213527e+00</td>\n",
              "      <td>-5.449772e+01</td>\n",
              "      <td>-3.483038e+01</td>\n",
              "      <td>-1.093314e+01</td>\n",
              "      <td>-4.480774e+01</td>\n",
              "      <td>-2.836627e+00</td>\n",
              "      <td>-1.029540e+01</td>\n",
              "      <td>-2.604551e+00</td>\n",
              "      <td>-2.256568e+01</td>\n",
              "      <td>-1.543008e+01</td>\n",
              "      <td>0.000000</td>\n",
              "      <td>0.000000</td>\n",
              "    </tr>\n",
              "    <tr>\n",
              "      <th>25%</th>\n",
              "      <td>54201.500000</td>\n",
              "      <td>-9.203734e-01</td>\n",
              "      <td>-5.985499e-01</td>\n",
              "      <td>-8.903648e-01</td>\n",
              "      <td>-8.486401e-01</td>\n",
              "      <td>-6.915971e-01</td>\n",
              "      <td>-7.682956e-01</td>\n",
              "      <td>-5.540759e-01</td>\n",
              "      <td>-2.086297e-01</td>\n",
              "      <td>-6.430976e-01</td>\n",
              "      <td>-5.354257e-01</td>\n",
              "      <td>-7.624942e-01</td>\n",
              "      <td>-4.055715e-01</td>\n",
              "      <td>-6.485393e-01</td>\n",
              "      <td>-4.255740e-01</td>\n",
              "      <td>-5.828843e-01</td>\n",
              "      <td>-4.680368e-01</td>\n",
              "      <td>-4.837483e-01</td>\n",
              "      <td>-4.988498e-01</td>\n",
              "      <td>-4.562989e-01</td>\n",
              "      <td>-2.117214e-01</td>\n",
              "      <td>-2.283949e-01</td>\n",
              "      <td>-5.423504e-01</td>\n",
              "      <td>-1.618463e-01</td>\n",
              "      <td>-3.545861e-01</td>\n",
              "      <td>-3.171451e-01</td>\n",
              "      <td>-3.269839e-01</td>\n",
              "      <td>-7.083953e-02</td>\n",
              "      <td>-5.295979e-02</td>\n",
              "      <td>5.600000</td>\n",
              "      <td>0.000000</td>\n",
              "    </tr>\n",
              "    <tr>\n",
              "      <th>50%</th>\n",
              "      <td>84692.000000</td>\n",
              "      <td>1.810880e-02</td>\n",
              "      <td>6.548556e-02</td>\n",
              "      <td>1.798463e-01</td>\n",
              "      <td>-1.984653e-02</td>\n",
              "      <td>-5.433583e-02</td>\n",
              "      <td>-2.741871e-01</td>\n",
              "      <td>4.010308e-02</td>\n",
              "      <td>2.235804e-02</td>\n",
              "      <td>-5.142873e-02</td>\n",
              "      <td>-9.291738e-02</td>\n",
              "      <td>-3.275735e-02</td>\n",
              "      <td>1.400326e-01</td>\n",
              "      <td>-1.356806e-02</td>\n",
              "      <td>5.060132e-02</td>\n",
              "      <td>4.807155e-02</td>\n",
              "      <td>6.641332e-02</td>\n",
              "      <td>-6.567575e-02</td>\n",
              "      <td>-3.636312e-03</td>\n",
              "      <td>3.734823e-03</td>\n",
              "      <td>-6.248109e-02</td>\n",
              "      <td>-2.945017e-02</td>\n",
              "      <td>6.781943e-03</td>\n",
              "      <td>-1.119293e-02</td>\n",
              "      <td>4.097606e-02</td>\n",
              "      <td>1.659350e-02</td>\n",
              "      <td>-5.213911e-02</td>\n",
              "      <td>1.342146e-03</td>\n",
              "      <td>1.124383e-02</td>\n",
              "      <td>22.000000</td>\n",
              "      <td>0.000000</td>\n",
              "    </tr>\n",
              "    <tr>\n",
              "      <th>75%</th>\n",
              "      <td>139320.500000</td>\n",
              "      <td>1.315642e+00</td>\n",
              "      <td>8.037239e-01</td>\n",
              "      <td>1.027196e+00</td>\n",
              "      <td>7.433413e-01</td>\n",
              "      <td>6.119264e-01</td>\n",
              "      <td>3.985649e-01</td>\n",
              "      <td>5.704361e-01</td>\n",
              "      <td>3.273459e-01</td>\n",
              "      <td>5.971390e-01</td>\n",
              "      <td>4.539234e-01</td>\n",
              "      <td>7.395934e-01</td>\n",
              "      <td>6.182380e-01</td>\n",
              "      <td>6.625050e-01</td>\n",
              "      <td>4.931498e-01</td>\n",
              "      <td>6.488208e-01</td>\n",
              "      <td>5.232963e-01</td>\n",
              "      <td>3.996750e-01</td>\n",
              "      <td>5.008067e-01</td>\n",
              "      <td>4.589494e-01</td>\n",
              "      <td>1.330408e-01</td>\n",
              "      <td>1.863772e-01</td>\n",
              "      <td>5.285536e-01</td>\n",
              "      <td>1.476421e-01</td>\n",
              "      <td>4.395266e-01</td>\n",
              "      <td>3.507156e-01</td>\n",
              "      <td>2.409522e-01</td>\n",
              "      <td>9.104512e-02</td>\n",
              "      <td>7.827995e-02</td>\n",
              "      <td>77.165000</td>\n",
              "      <td>0.000000</td>\n",
              "    </tr>\n",
              "    <tr>\n",
              "      <th>max</th>\n",
              "      <td>172792.000000</td>\n",
              "      <td>2.454930e+00</td>\n",
              "      <td>2.205773e+01</td>\n",
              "      <td>9.382558e+00</td>\n",
              "      <td>1.687534e+01</td>\n",
              "      <td>3.480167e+01</td>\n",
              "      <td>7.330163e+01</td>\n",
              "      <td>1.205895e+02</td>\n",
              "      <td>2.000721e+01</td>\n",
              "      <td>1.559499e+01</td>\n",
              "      <td>2.374514e+01</td>\n",
              "      <td>1.201891e+01</td>\n",
              "      <td>7.848392e+00</td>\n",
              "      <td>7.126883e+00</td>\n",
              "      <td>1.052677e+01</td>\n",
              "      <td>8.877742e+00</td>\n",
              "      <td>1.731511e+01</td>\n",
              "      <td>9.253526e+00</td>\n",
              "      <td>5.041069e+00</td>\n",
              "      <td>5.591971e+00</td>\n",
              "      <td>3.942090e+01</td>\n",
              "      <td>2.720284e+01</td>\n",
              "      <td>1.050309e+01</td>\n",
              "      <td>2.252841e+01</td>\n",
              "      <td>4.584549e+00</td>\n",
              "      <td>7.519589e+00</td>\n",
              "      <td>3.517346e+00</td>\n",
              "      <td>3.161220e+01</td>\n",
              "      <td>3.384781e+01</td>\n",
              "      <td>25691.160000</td>\n",
              "      <td>1.000000</td>\n",
              "    </tr>\n",
              "  </tbody>\n",
              "</table>\n",
              "</div>"
            ],
            "text/plain": [
              "                Time            V1  ...         Amount          Class\n",
              "count  284807.000000  2.848070e+05  ...  284807.000000  284807.000000\n",
              "mean    94813.859575  3.919560e-15  ...      88.349619       0.001727\n",
              "std     47488.145955  1.958696e+00  ...     250.120109       0.041527\n",
              "min         0.000000 -5.640751e+01  ...       0.000000       0.000000\n",
              "25%     54201.500000 -9.203734e-01  ...       5.600000       0.000000\n",
              "50%     84692.000000  1.810880e-02  ...      22.000000       0.000000\n",
              "75%    139320.500000  1.315642e+00  ...      77.165000       0.000000\n",
              "max    172792.000000  2.454930e+00  ...   25691.160000       1.000000\n",
              "\n",
              "[8 rows x 31 columns]"
            ]
          },
          "metadata": {
            "tags": []
          },
          "execution_count": 40
        }
      ]
    },
    {
      "cell_type": "code",
      "metadata": {
        "colab": {
          "base_uri": "https://localhost:8080/",
          "height": 224
        },
        "id": "VHb5SHtGWUM9",
        "outputId": "67c9db9f-4b72-4df5-a1f3-dc5ff8da12bc"
      },
      "source": [
        "df_full.head(5)"
      ],
      "execution_count": 41,
      "outputs": [
        {
          "output_type": "execute_result",
          "data": {
            "text/html": [
              "<div>\n",
              "<style scoped>\n",
              "    .dataframe tbody tr th:only-of-type {\n",
              "        vertical-align: middle;\n",
              "    }\n",
              "\n",
              "    .dataframe tbody tr th {\n",
              "        vertical-align: top;\n",
              "    }\n",
              "\n",
              "    .dataframe thead th {\n",
              "        text-align: right;\n",
              "    }\n",
              "</style>\n",
              "<table border=\"1\" class=\"dataframe\">\n",
              "  <thead>\n",
              "    <tr style=\"text-align: right;\">\n",
              "      <th></th>\n",
              "      <th>Time</th>\n",
              "      <th>V1</th>\n",
              "      <th>V2</th>\n",
              "      <th>V3</th>\n",
              "      <th>V4</th>\n",
              "      <th>V5</th>\n",
              "      <th>V6</th>\n",
              "      <th>V7</th>\n",
              "      <th>V8</th>\n",
              "      <th>V9</th>\n",
              "      <th>V10</th>\n",
              "      <th>V11</th>\n",
              "      <th>V12</th>\n",
              "      <th>V13</th>\n",
              "      <th>V14</th>\n",
              "      <th>V15</th>\n",
              "      <th>V16</th>\n",
              "      <th>V17</th>\n",
              "      <th>V18</th>\n",
              "      <th>V19</th>\n",
              "      <th>V20</th>\n",
              "      <th>V21</th>\n",
              "      <th>V22</th>\n",
              "      <th>V23</th>\n",
              "      <th>V24</th>\n",
              "      <th>V25</th>\n",
              "      <th>V26</th>\n",
              "      <th>V27</th>\n",
              "      <th>V28</th>\n",
              "      <th>Amount</th>\n",
              "      <th>Class</th>\n",
              "    </tr>\n",
              "  </thead>\n",
              "  <tbody>\n",
              "    <tr>\n",
              "      <th>0</th>\n",
              "      <td>0.0</td>\n",
              "      <td>-1.359807</td>\n",
              "      <td>-0.072781</td>\n",
              "      <td>2.536347</td>\n",
              "      <td>1.378155</td>\n",
              "      <td>-0.338321</td>\n",
              "      <td>0.462388</td>\n",
              "      <td>0.239599</td>\n",
              "      <td>0.098698</td>\n",
              "      <td>0.363787</td>\n",
              "      <td>0.090794</td>\n",
              "      <td>-0.551600</td>\n",
              "      <td>-0.617801</td>\n",
              "      <td>-0.991390</td>\n",
              "      <td>-0.311169</td>\n",
              "      <td>1.468177</td>\n",
              "      <td>-0.470401</td>\n",
              "      <td>0.207971</td>\n",
              "      <td>0.025791</td>\n",
              "      <td>0.403993</td>\n",
              "      <td>0.251412</td>\n",
              "      <td>-0.018307</td>\n",
              "      <td>0.277838</td>\n",
              "      <td>-0.110474</td>\n",
              "      <td>0.066928</td>\n",
              "      <td>0.128539</td>\n",
              "      <td>-0.189115</td>\n",
              "      <td>0.133558</td>\n",
              "      <td>-0.021053</td>\n",
              "      <td>149.62</td>\n",
              "      <td>0</td>\n",
              "    </tr>\n",
              "    <tr>\n",
              "      <th>1</th>\n",
              "      <td>0.0</td>\n",
              "      <td>1.191857</td>\n",
              "      <td>0.266151</td>\n",
              "      <td>0.166480</td>\n",
              "      <td>0.448154</td>\n",
              "      <td>0.060018</td>\n",
              "      <td>-0.082361</td>\n",
              "      <td>-0.078803</td>\n",
              "      <td>0.085102</td>\n",
              "      <td>-0.255425</td>\n",
              "      <td>-0.166974</td>\n",
              "      <td>1.612727</td>\n",
              "      <td>1.065235</td>\n",
              "      <td>0.489095</td>\n",
              "      <td>-0.143772</td>\n",
              "      <td>0.635558</td>\n",
              "      <td>0.463917</td>\n",
              "      <td>-0.114805</td>\n",
              "      <td>-0.183361</td>\n",
              "      <td>-0.145783</td>\n",
              "      <td>-0.069083</td>\n",
              "      <td>-0.225775</td>\n",
              "      <td>-0.638672</td>\n",
              "      <td>0.101288</td>\n",
              "      <td>-0.339846</td>\n",
              "      <td>0.167170</td>\n",
              "      <td>0.125895</td>\n",
              "      <td>-0.008983</td>\n",
              "      <td>0.014724</td>\n",
              "      <td>2.69</td>\n",
              "      <td>0</td>\n",
              "    </tr>\n",
              "    <tr>\n",
              "      <th>2</th>\n",
              "      <td>1.0</td>\n",
              "      <td>-1.358354</td>\n",
              "      <td>-1.340163</td>\n",
              "      <td>1.773209</td>\n",
              "      <td>0.379780</td>\n",
              "      <td>-0.503198</td>\n",
              "      <td>1.800499</td>\n",
              "      <td>0.791461</td>\n",
              "      <td>0.247676</td>\n",
              "      <td>-1.514654</td>\n",
              "      <td>0.207643</td>\n",
              "      <td>0.624501</td>\n",
              "      <td>0.066084</td>\n",
              "      <td>0.717293</td>\n",
              "      <td>-0.165946</td>\n",
              "      <td>2.345865</td>\n",
              "      <td>-2.890083</td>\n",
              "      <td>1.109969</td>\n",
              "      <td>-0.121359</td>\n",
              "      <td>-2.261857</td>\n",
              "      <td>0.524980</td>\n",
              "      <td>0.247998</td>\n",
              "      <td>0.771679</td>\n",
              "      <td>0.909412</td>\n",
              "      <td>-0.689281</td>\n",
              "      <td>-0.327642</td>\n",
              "      <td>-0.139097</td>\n",
              "      <td>-0.055353</td>\n",
              "      <td>-0.059752</td>\n",
              "      <td>378.66</td>\n",
              "      <td>0</td>\n",
              "    </tr>\n",
              "    <tr>\n",
              "      <th>3</th>\n",
              "      <td>1.0</td>\n",
              "      <td>-0.966272</td>\n",
              "      <td>-0.185226</td>\n",
              "      <td>1.792993</td>\n",
              "      <td>-0.863291</td>\n",
              "      <td>-0.010309</td>\n",
              "      <td>1.247203</td>\n",
              "      <td>0.237609</td>\n",
              "      <td>0.377436</td>\n",
              "      <td>-1.387024</td>\n",
              "      <td>-0.054952</td>\n",
              "      <td>-0.226487</td>\n",
              "      <td>0.178228</td>\n",
              "      <td>0.507757</td>\n",
              "      <td>-0.287924</td>\n",
              "      <td>-0.631418</td>\n",
              "      <td>-1.059647</td>\n",
              "      <td>-0.684093</td>\n",
              "      <td>1.965775</td>\n",
              "      <td>-1.232622</td>\n",
              "      <td>-0.208038</td>\n",
              "      <td>-0.108300</td>\n",
              "      <td>0.005274</td>\n",
              "      <td>-0.190321</td>\n",
              "      <td>-1.175575</td>\n",
              "      <td>0.647376</td>\n",
              "      <td>-0.221929</td>\n",
              "      <td>0.062723</td>\n",
              "      <td>0.061458</td>\n",
              "      <td>123.50</td>\n",
              "      <td>0</td>\n",
              "    </tr>\n",
              "    <tr>\n",
              "      <th>4</th>\n",
              "      <td>2.0</td>\n",
              "      <td>-1.158233</td>\n",
              "      <td>0.877737</td>\n",
              "      <td>1.548718</td>\n",
              "      <td>0.403034</td>\n",
              "      <td>-0.407193</td>\n",
              "      <td>0.095921</td>\n",
              "      <td>0.592941</td>\n",
              "      <td>-0.270533</td>\n",
              "      <td>0.817739</td>\n",
              "      <td>0.753074</td>\n",
              "      <td>-0.822843</td>\n",
              "      <td>0.538196</td>\n",
              "      <td>1.345852</td>\n",
              "      <td>-1.119670</td>\n",
              "      <td>0.175121</td>\n",
              "      <td>-0.451449</td>\n",
              "      <td>-0.237033</td>\n",
              "      <td>-0.038195</td>\n",
              "      <td>0.803487</td>\n",
              "      <td>0.408542</td>\n",
              "      <td>-0.009431</td>\n",
              "      <td>0.798278</td>\n",
              "      <td>-0.137458</td>\n",
              "      <td>0.141267</td>\n",
              "      <td>-0.206010</td>\n",
              "      <td>0.502292</td>\n",
              "      <td>0.219422</td>\n",
              "      <td>0.215153</td>\n",
              "      <td>69.99</td>\n",
              "      <td>0</td>\n",
              "    </tr>\n",
              "  </tbody>\n",
              "</table>\n",
              "</div>"
            ],
            "text/plain": [
              "   Time        V1        V2        V3  ...       V27       V28  Amount  Class\n",
              "0   0.0 -1.359807 -0.072781  2.536347  ...  0.133558 -0.021053  149.62      0\n",
              "1   0.0  1.191857  0.266151  0.166480  ... -0.008983  0.014724    2.69      0\n",
              "2   1.0 -1.358354 -1.340163  1.773209  ... -0.055353 -0.059752  378.66      0\n",
              "3   1.0 -0.966272 -0.185226  1.792993  ...  0.062723  0.061458  123.50      0\n",
              "4   2.0 -1.158233  0.877737  1.548718  ...  0.219422  0.215153   69.99      0\n",
              "\n",
              "[5 rows x 31 columns]"
            ]
          },
          "metadata": {
            "tags": []
          },
          "execution_count": 41
        }
      ]
    },
    {
      "cell_type": "code",
      "metadata": {
        "colab": {
          "base_uri": "https://localhost:8080/"
        },
        "id": "02GYag5qWXzG",
        "outputId": "ea2d5efc-e629-4687-bf5d-4de175f45f60"
      },
      "source": [
        "df_full.Class.value_counts()"
      ],
      "execution_count": 42,
      "outputs": [
        {
          "output_type": "execute_result",
          "data": {
            "text/plain": [
              "0    284315\n",
              "1       492\n",
              "Name: Class, dtype: int64"
            ]
          },
          "metadata": {
            "tags": []
          },
          "execution_count": 42
        }
      ]
    },
    {
      "cell_type": "code",
      "metadata": {
        "id": "_5INZfabWh1a"
      },
      "source": [
        "df_full.sort_values( by='Class', ascending= False , inplace=True)"
      ],
      "execution_count": 43,
      "outputs": []
    },
    {
      "cell_type": "code",
      "metadata": {
        "id": "8RakdTGbZjS7"
      },
      "source": [
        "df_full.drop('Time', axis=1, inplace=True)"
      ],
      "execution_count": 44,
      "outputs": []
    },
    {
      "cell_type": "code",
      "metadata": {
        "id": "jg6ccErWZ8uN"
      },
      "source": [
        "#Assigning the first 3000 samples to a new dataframe\n",
        "df_sample = df_full.iloc[:3000, :]"
      ],
      "execution_count": 45,
      "outputs": []
    },
    {
      "cell_type": "code",
      "metadata": {
        "colab": {
          "base_uri": "https://localhost:8080/"
        },
        "id": "5E7FiUwsabsg",
        "outputId": "9b78b03c-9e2b-4dfa-ff26-7f46d8fdd5bc"
      },
      "source": [
        "df_sample.Class.value_counts()"
      ],
      "execution_count": 46,
      "outputs": [
        {
          "output_type": "execute_result",
          "data": {
            "text/plain": [
              "0    2508\n",
              "1     492\n",
              "Name: Class, dtype: int64"
            ]
          },
          "metadata": {
            "tags": []
          },
          "execution_count": 46
        }
      ]
    },
    {
      "cell_type": "code",
      "metadata": {
        "id": "Qys1ilnCa-_1"
      },
      "source": [
        "shuffle_df = shuffle(df_sample, random_state= 42)"
      ],
      "execution_count": 47,
      "outputs": []
    },
    {
      "cell_type": "code",
      "metadata": {
        "id": "Qok7o7BpbU_W"
      },
      "source": [
        "#slitting data into 2 .. training and testing segments\n",
        "df_train = shuffle_df[0:2400]\n",
        "df_test = shuffle_df[2400: ]"
      ],
      "execution_count": 48,
      "outputs": []
    },
    {
      "cell_type": "code",
      "metadata": {
        "id": "wgUjt9tacIJd"
      },
      "source": [
        "#Spliting each dataframe into feature and label\n",
        "train_feature = np.array(df_train.values[:, 0:29])\n",
        "train_label = np.array(df_train.values[:, -1])\n",
        "test_feature = np.array(df_train.values[:, 0:29])\n",
        "test_label = np.array(df_train.values[:, -1])"
      ],
      "execution_count": 49,
      "outputs": []
    },
    {
      "cell_type": "code",
      "metadata": {
        "colab": {
          "base_uri": "https://localhost:8080/"
        },
        "id": "NyEhtmdXeImj",
        "outputId": "094a5cea-324f-4be5-a26c-6469593d9085"
      },
      "source": [
        "train_feature.shape"
      ],
      "execution_count": 50,
      "outputs": [
        {
          "output_type": "execute_result",
          "data": {
            "text/plain": [
              "(2400, 29)"
            ]
          },
          "metadata": {
            "tags": []
          },
          "execution_count": 50
        }
      ]
    },
    {
      "cell_type": "code",
      "metadata": {
        "colab": {
          "base_uri": "https://localhost:8080/"
        },
        "id": "3uNyVkeCeSe5",
        "outputId": "c56cb97b-ef83-4cca-948c-60655fe96a14"
      },
      "source": [
        "train_label.shape"
      ],
      "execution_count": 51,
      "outputs": [
        {
          "output_type": "execute_result",
          "data": {
            "text/plain": [
              "(2400,)"
            ]
          },
          "metadata": {
            "tags": []
          },
          "execution_count": 51
        }
      ]
    },
    {
      "cell_type": "code",
      "metadata": {
        "id": "4a3eoinoecua"
      },
      "source": [
        "scaler = MinMaxScaler()\n",
        "scaler.fit(train_feature)\n",
        "train_feature_trans=scaler.transform(train_feature)\n",
        "train_feature_trans = scaler.transform(test_feature)"
      ],
      "execution_count": 52,
      "outputs": []
    },
    {
      "cell_type": "code",
      "metadata": {
        "id": "IeaBDEmEfUx7"
      },
      "source": [
        "model= Sequential()"
      ],
      "execution_count": 53,
      "outputs": []
    },
    {
      "cell_type": "code",
      "metadata": {
        "id": "waC3AHTGf59t"
      },
      "source": [
        "model.add(Dense(units=200,input_dim=29,kernel_initializer='uniform', activation='relu'))"
      ],
      "execution_count": 54,
      "outputs": []
    },
    {
      "cell_type": "code",
      "metadata": {
        "id": "tZF-mZWZgllH"
      },
      "source": [
        "model.add(Dropout(0.5))"
      ],
      "execution_count": 55,
      "outputs": []
    },
    {
      "cell_type": "code",
      "metadata": {
        "id": "LXh4Ny9hg81U"
      },
      "source": [
        "model.add(Dense(units=200,kernel_initializer='uniform', activation='relu'))"
      ],
      "execution_count": 56,
      "outputs": []
    },
    {
      "cell_type": "code",
      "metadata": {
        "id": "fK68WQ6ohAZi"
      },
      "source": [
        "model.add(Dropout(0.5))"
      ],
      "execution_count": 57,
      "outputs": []
    },
    {
      "cell_type": "code",
      "metadata": {
        "id": "iIEYeKRghLKo"
      },
      "source": [
        "model.add(Dense(units=1,kernel_initializer='uniform', activation='sigmoid'))"
      ],
      "execution_count": 58,
      "outputs": []
    },
    {
      "cell_type": "code",
      "metadata": {
        "colab": {
          "base_uri": "https://localhost:8080/"
        },
        "id": "4WSuREfthVI3",
        "outputId": "cf969b1f-cd91-4d29-97a0-9f45e0a7da79"
      },
      "source": [
        "model.summary()"
      ],
      "execution_count": 59,
      "outputs": [
        {
          "output_type": "stream",
          "text": [
            "Model: \"sequential_1\"\n",
            "_________________________________________________________________\n",
            "Layer (type)                 Output Shape              Param #   \n",
            "=================================================================\n",
            "dense_3 (Dense)              (None, 200)               6000      \n",
            "_________________________________________________________________\n",
            "dropout_2 (Dropout)          (None, 200)               0         \n",
            "_________________________________________________________________\n",
            "dense_4 (Dense)              (None, 200)               40200     \n",
            "_________________________________________________________________\n",
            "dropout_3 (Dropout)          (None, 200)               0         \n",
            "_________________________________________________________________\n",
            "dense_5 (Dense)              (None, 1)                 201       \n",
            "=================================================================\n",
            "Total params: 46,401\n",
            "Trainable params: 46,401\n",
            "Non-trainable params: 0\n",
            "_________________________________________________________________\n"
          ],
          "name": "stdout"
        }
      ]
    },
    {
      "cell_type": "code",
      "metadata": {
        "id": "FhOjZ-QWhgUL"
      },
      "source": [
        "model.compile(loss='binary_crossentropy', optimizer='adam',\n",
        "metrics=['accuracy'])"
      ],
      "execution_count": 66,
      "outputs": []
    },
    {
      "cell_type": "code",
      "metadata": {
        "id": "ERwwoWL2iE1j",
        "colab": {
          "base_uri": "https://localhost:8080/"
        },
        "outputId": "8760ccc1-2f2f-4740-cd1f-55049e263bbe"
      },
      "source": [
        "train_history = model.fit(x=train_feature_trans, y=train_label,\n",
        "validation_split=0.8, epochs=200,\n",
        "batch_size=500, verbose=2)"
      ],
      "execution_count": 65,
      "outputs": [
        {
          "output_type": "stream",
          "text": [
            "Epoch 1/200\n",
            "1/1 - 0s - loss: 0.0657 - accuracy: 0.9833 - val_loss: 0.1175 - val_accuracy: 0.9714\n",
            "Epoch 2/200\n",
            "1/1 - 0s - loss: 0.0587 - accuracy: 0.9854 - val_loss: 0.1175 - val_accuracy: 0.9714\n",
            "Epoch 3/200\n",
            "1/1 - 0s - loss: 0.0671 - accuracy: 0.9833 - val_loss: 0.1174 - val_accuracy: 0.9714\n",
            "Epoch 4/200\n",
            "1/1 - 0s - loss: 0.0642 - accuracy: 0.9875 - val_loss: 0.1178 - val_accuracy: 0.9714\n",
            "Epoch 5/200\n",
            "1/1 - 0s - loss: 0.0600 - accuracy: 0.9833 - val_loss: 0.1183 - val_accuracy: 0.9714\n",
            "Epoch 6/200\n",
            "1/1 - 0s - loss: 0.0606 - accuracy: 0.9833 - val_loss: 0.1191 - val_accuracy: 0.9714\n",
            "Epoch 7/200\n",
            "1/1 - 0s - loss: 0.0584 - accuracy: 0.9875 - val_loss: 0.1193 - val_accuracy: 0.9719\n",
            "Epoch 8/200\n",
            "1/1 - 0s - loss: 0.0617 - accuracy: 0.9833 - val_loss: 0.1183 - val_accuracy: 0.9714\n",
            "Epoch 9/200\n",
            "1/1 - 0s - loss: 0.0592 - accuracy: 0.9875 - val_loss: 0.1177 - val_accuracy: 0.9714\n",
            "Epoch 10/200\n",
            "1/1 - 0s - loss: 0.0594 - accuracy: 0.9896 - val_loss: 0.1176 - val_accuracy: 0.9719\n",
            "Epoch 11/200\n",
            "1/1 - 0s - loss: 0.0588 - accuracy: 0.9854 - val_loss: 0.1180 - val_accuracy: 0.9714\n",
            "Epoch 12/200\n",
            "1/1 - 0s - loss: 0.0616 - accuracy: 0.9875 - val_loss: 0.1190 - val_accuracy: 0.9708\n",
            "Epoch 13/200\n",
            "1/1 - 0s - loss: 0.0623 - accuracy: 0.9854 - val_loss: 0.1200 - val_accuracy: 0.9719\n",
            "Epoch 14/200\n",
            "1/1 - 0s - loss: 0.0650 - accuracy: 0.9833 - val_loss: 0.1203 - val_accuracy: 0.9719\n",
            "Epoch 15/200\n",
            "1/1 - 0s - loss: 0.0603 - accuracy: 0.9854 - val_loss: 0.1200 - val_accuracy: 0.9708\n",
            "Epoch 16/200\n",
            "1/1 - 0s - loss: 0.0608 - accuracy: 0.9875 - val_loss: 0.1198 - val_accuracy: 0.9708\n",
            "Epoch 17/200\n",
            "1/1 - 0s - loss: 0.0690 - accuracy: 0.9791 - val_loss: 0.1193 - val_accuracy: 0.9719\n",
            "Epoch 18/200\n",
            "1/1 - 0s - loss: 0.0704 - accuracy: 0.9833 - val_loss: 0.1192 - val_accuracy: 0.9714\n",
            "Epoch 19/200\n",
            "1/1 - 0s - loss: 0.0589 - accuracy: 0.9854 - val_loss: 0.1192 - val_accuracy: 0.9719\n",
            "Epoch 20/200\n",
            "1/1 - 0s - loss: 0.0567 - accuracy: 0.9875 - val_loss: 0.1194 - val_accuracy: 0.9714\n",
            "Epoch 21/200\n",
            "1/1 - 0s - loss: 0.0628 - accuracy: 0.9896 - val_loss: 0.1200 - val_accuracy: 0.9714\n",
            "Epoch 22/200\n",
            "1/1 - 0s - loss: 0.0613 - accuracy: 0.9854 - val_loss: 0.1200 - val_accuracy: 0.9708\n",
            "Epoch 23/200\n",
            "1/1 - 0s - loss: 0.0605 - accuracy: 0.9854 - val_loss: 0.1199 - val_accuracy: 0.9708\n",
            "Epoch 24/200\n",
            "1/1 - 0s - loss: 0.0559 - accuracy: 0.9896 - val_loss: 0.1196 - val_accuracy: 0.9708\n",
            "Epoch 25/200\n",
            "1/1 - 0s - loss: 0.0610 - accuracy: 0.9854 - val_loss: 0.1194 - val_accuracy: 0.9719\n",
            "Epoch 26/200\n",
            "1/1 - 0s - loss: 0.0598 - accuracy: 0.9854 - val_loss: 0.1194 - val_accuracy: 0.9719\n",
            "Epoch 27/200\n",
            "1/1 - 0s - loss: 0.0577 - accuracy: 0.9833 - val_loss: 0.1196 - val_accuracy: 0.9708\n",
            "Epoch 28/200\n",
            "1/1 - 0s - loss: 0.0602 - accuracy: 0.9875 - val_loss: 0.1202 - val_accuracy: 0.9714\n",
            "Epoch 29/200\n",
            "1/1 - 0s - loss: 0.0693 - accuracy: 0.9812 - val_loss: 0.1211 - val_accuracy: 0.9714\n",
            "Epoch 30/200\n",
            "1/1 - 0s - loss: 0.0585 - accuracy: 0.9854 - val_loss: 0.1211 - val_accuracy: 0.9714\n",
            "Epoch 31/200\n",
            "1/1 - 0s - loss: 0.0599 - accuracy: 0.9875 - val_loss: 0.1207 - val_accuracy: 0.9714\n",
            "Epoch 32/200\n",
            "1/1 - 0s - loss: 0.0633 - accuracy: 0.9854 - val_loss: 0.1199 - val_accuracy: 0.9714\n",
            "Epoch 33/200\n",
            "1/1 - 0s - loss: 0.0547 - accuracy: 0.9875 - val_loss: 0.1193 - val_accuracy: 0.9714\n",
            "Epoch 34/200\n",
            "1/1 - 0s - loss: 0.0602 - accuracy: 0.9875 - val_loss: 0.1192 - val_accuracy: 0.9714\n",
            "Epoch 35/200\n",
            "1/1 - 0s - loss: 0.0685 - accuracy: 0.9854 - val_loss: 0.1199 - val_accuracy: 0.9714\n",
            "Epoch 36/200\n",
            "1/1 - 0s - loss: 0.0634 - accuracy: 0.9875 - val_loss: 0.1209 - val_accuracy: 0.9719\n",
            "Epoch 37/200\n",
            "1/1 - 0s - loss: 0.0632 - accuracy: 0.9833 - val_loss: 0.1204 - val_accuracy: 0.9714\n",
            "Epoch 38/200\n",
            "1/1 - 0s - loss: 0.0531 - accuracy: 0.9875 - val_loss: 0.1196 - val_accuracy: 0.9714\n",
            "Epoch 39/200\n",
            "1/1 - 0s - loss: 0.0546 - accuracy: 0.9854 - val_loss: 0.1190 - val_accuracy: 0.9714\n",
            "Epoch 40/200\n",
            "1/1 - 0s - loss: 0.0599 - accuracy: 0.9896 - val_loss: 0.1192 - val_accuracy: 0.9714\n",
            "Epoch 41/200\n",
            "1/1 - 0s - loss: 0.0620 - accuracy: 0.9896 - val_loss: 0.1192 - val_accuracy: 0.9719\n",
            "Epoch 42/200\n",
            "1/1 - 0s - loss: 0.0606 - accuracy: 0.9875 - val_loss: 0.1193 - val_accuracy: 0.9714\n",
            "Epoch 43/200\n",
            "1/1 - 0s - loss: 0.0685 - accuracy: 0.9833 - val_loss: 0.1193 - val_accuracy: 0.9714\n",
            "Epoch 44/200\n",
            "1/1 - 0s - loss: 0.0570 - accuracy: 0.9875 - val_loss: 0.1194 - val_accuracy: 0.9714\n",
            "Epoch 45/200\n",
            "1/1 - 0s - loss: 0.0594 - accuracy: 0.9854 - val_loss: 0.1197 - val_accuracy: 0.9714\n",
            "Epoch 46/200\n",
            "1/1 - 0s - loss: 0.0544 - accuracy: 0.9875 - val_loss: 0.1200 - val_accuracy: 0.9714\n",
            "Epoch 47/200\n",
            "1/1 - 0s - loss: 0.0568 - accuracy: 0.9854 - val_loss: 0.1202 - val_accuracy: 0.9714\n",
            "Epoch 48/200\n",
            "1/1 - 0s - loss: 0.0590 - accuracy: 0.9854 - val_loss: 0.1205 - val_accuracy: 0.9719\n",
            "Epoch 49/200\n",
            "1/1 - 0s - loss: 0.0510 - accuracy: 0.9896 - val_loss: 0.1212 - val_accuracy: 0.9714\n",
            "Epoch 50/200\n",
            "1/1 - 0s - loss: 0.0590 - accuracy: 0.9896 - val_loss: 0.1222 - val_accuracy: 0.9708\n",
            "Epoch 51/200\n",
            "1/1 - 0s - loss: 0.0668 - accuracy: 0.9854 - val_loss: 0.1231 - val_accuracy: 0.9708\n",
            "Epoch 52/200\n",
            "1/1 - 0s - loss: 0.0597 - accuracy: 0.9833 - val_loss: 0.1237 - val_accuracy: 0.9714\n",
            "Epoch 53/200\n",
            "1/1 - 0s - loss: 0.0582 - accuracy: 0.9875 - val_loss: 0.1239 - val_accuracy: 0.9708\n",
            "Epoch 54/200\n",
            "1/1 - 0s - loss: 0.0652 - accuracy: 0.9854 - val_loss: 0.1233 - val_accuracy: 0.9714\n",
            "Epoch 55/200\n",
            "1/1 - 0s - loss: 0.0570 - accuracy: 0.9875 - val_loss: 0.1231 - val_accuracy: 0.9714\n",
            "Epoch 56/200\n",
            "1/1 - 0s - loss: 0.0611 - accuracy: 0.9896 - val_loss: 0.1233 - val_accuracy: 0.9698\n",
            "Epoch 57/200\n",
            "1/1 - 0s - loss: 0.0557 - accuracy: 0.9896 - val_loss: 0.1236 - val_accuracy: 0.9688\n",
            "Epoch 58/200\n",
            "1/1 - 0s - loss: 0.0610 - accuracy: 0.9833 - val_loss: 0.1229 - val_accuracy: 0.9714\n",
            "Epoch 59/200\n",
            "1/1 - 0s - loss: 0.0479 - accuracy: 0.9854 - val_loss: 0.1228 - val_accuracy: 0.9714\n",
            "Epoch 60/200\n",
            "1/1 - 0s - loss: 0.0600 - accuracy: 0.9833 - val_loss: 0.1228 - val_accuracy: 0.9714\n",
            "Epoch 61/200\n",
            "1/1 - 0s - loss: 0.0559 - accuracy: 0.9854 - val_loss: 0.1224 - val_accuracy: 0.9714\n",
            "Epoch 62/200\n",
            "1/1 - 0s - loss: 0.0581 - accuracy: 0.9875 - val_loss: 0.1222 - val_accuracy: 0.9714\n",
            "Epoch 63/200\n",
            "1/1 - 0s - loss: 0.0605 - accuracy: 0.9833 - val_loss: 0.1210 - val_accuracy: 0.9714\n",
            "Epoch 64/200\n",
            "1/1 - 0s - loss: 0.0549 - accuracy: 0.9875 - val_loss: 0.1208 - val_accuracy: 0.9719\n",
            "Epoch 65/200\n",
            "1/1 - 0s - loss: 0.0565 - accuracy: 0.9833 - val_loss: 0.1210 - val_accuracy: 0.9714\n",
            "Epoch 66/200\n",
            "1/1 - 0s - loss: 0.0557 - accuracy: 0.9875 - val_loss: 0.1213 - val_accuracy: 0.9719\n",
            "Epoch 67/200\n",
            "1/1 - 0s - loss: 0.0635 - accuracy: 0.9875 - val_loss: 0.1220 - val_accuracy: 0.9708\n",
            "Epoch 68/200\n",
            "1/1 - 0s - loss: 0.0581 - accuracy: 0.9875 - val_loss: 0.1225 - val_accuracy: 0.9714\n",
            "Epoch 69/200\n",
            "1/1 - 0s - loss: 0.0614 - accuracy: 0.9854 - val_loss: 0.1218 - val_accuracy: 0.9714\n",
            "Epoch 70/200\n",
            "1/1 - 0s - loss: 0.0591 - accuracy: 0.9875 - val_loss: 0.1216 - val_accuracy: 0.9708\n",
            "Epoch 71/200\n",
            "1/1 - 0s - loss: 0.0633 - accuracy: 0.9875 - val_loss: 0.1220 - val_accuracy: 0.9698\n",
            "Epoch 72/200\n",
            "1/1 - 0s - loss: 0.0567 - accuracy: 0.9833 - val_loss: 0.1220 - val_accuracy: 0.9708\n",
            "Epoch 73/200\n",
            "1/1 - 0s - loss: 0.0519 - accuracy: 0.9896 - val_loss: 0.1224 - val_accuracy: 0.9714\n",
            "Epoch 74/200\n",
            "1/1 - 0s - loss: 0.0515 - accuracy: 0.9875 - val_loss: 0.1231 - val_accuracy: 0.9714\n",
            "Epoch 75/200\n",
            "1/1 - 0s - loss: 0.0578 - accuracy: 0.9896 - val_loss: 0.1233 - val_accuracy: 0.9714\n",
            "Epoch 76/200\n",
            "1/1 - 0s - loss: 0.0573 - accuracy: 0.9854 - val_loss: 0.1233 - val_accuracy: 0.9714\n",
            "Epoch 77/200\n",
            "1/1 - 0s - loss: 0.0610 - accuracy: 0.9854 - val_loss: 0.1227 - val_accuracy: 0.9714\n",
            "Epoch 78/200\n",
            "1/1 - 0s - loss: 0.0533 - accuracy: 0.9916 - val_loss: 0.1225 - val_accuracy: 0.9719\n",
            "Epoch 79/200\n",
            "1/1 - 0s - loss: 0.0585 - accuracy: 0.9854 - val_loss: 0.1225 - val_accuracy: 0.9719\n",
            "Epoch 80/200\n",
            "1/1 - 0s - loss: 0.0548 - accuracy: 0.9875 - val_loss: 0.1229 - val_accuracy: 0.9714\n",
            "Epoch 81/200\n",
            "1/1 - 0s - loss: 0.0548 - accuracy: 0.9812 - val_loss: 0.1229 - val_accuracy: 0.9708\n",
            "Epoch 82/200\n",
            "1/1 - 0s - loss: 0.0597 - accuracy: 0.9875 - val_loss: 0.1228 - val_accuracy: 0.9714\n",
            "Epoch 83/200\n",
            "1/1 - 0s - loss: 0.0516 - accuracy: 0.9854 - val_loss: 0.1225 - val_accuracy: 0.9714\n",
            "Epoch 84/200\n",
            "1/1 - 0s - loss: 0.0571 - accuracy: 0.9875 - val_loss: 0.1226 - val_accuracy: 0.9708\n",
            "Epoch 85/200\n",
            "1/1 - 0s - loss: 0.0563 - accuracy: 0.9896 - val_loss: 0.1228 - val_accuracy: 0.9688\n",
            "Epoch 86/200\n",
            "1/1 - 0s - loss: 0.0565 - accuracy: 0.9875 - val_loss: 0.1225 - val_accuracy: 0.9719\n",
            "Epoch 87/200\n",
            "1/1 - 0s - loss: 0.0565 - accuracy: 0.9854 - val_loss: 0.1230 - val_accuracy: 0.9708\n",
            "Epoch 88/200\n",
            "1/1 - 0s - loss: 0.0566 - accuracy: 0.9875 - val_loss: 0.1235 - val_accuracy: 0.9714\n",
            "Epoch 89/200\n",
            "1/1 - 0s - loss: 0.0523 - accuracy: 0.9875 - val_loss: 0.1233 - val_accuracy: 0.9714\n",
            "Epoch 90/200\n",
            "1/1 - 0s - loss: 0.0544 - accuracy: 0.9896 - val_loss: 0.1226 - val_accuracy: 0.9708\n",
            "Epoch 91/200\n",
            "1/1 - 0s - loss: 0.0602 - accuracy: 0.9875 - val_loss: 0.1223 - val_accuracy: 0.9714\n",
            "Epoch 92/200\n",
            "1/1 - 0s - loss: 0.0504 - accuracy: 0.9896 - val_loss: 0.1226 - val_accuracy: 0.9708\n",
            "Epoch 93/200\n",
            "1/1 - 0s - loss: 0.0456 - accuracy: 0.9896 - val_loss: 0.1233 - val_accuracy: 0.9708\n",
            "Epoch 94/200\n",
            "1/1 - 0s - loss: 0.0517 - accuracy: 0.9833 - val_loss: 0.1248 - val_accuracy: 0.9714\n",
            "Epoch 95/200\n",
            "1/1 - 0s - loss: 0.0567 - accuracy: 0.9875 - val_loss: 0.1247 - val_accuracy: 0.9714\n",
            "Epoch 96/200\n",
            "1/1 - 0s - loss: 0.0520 - accuracy: 0.9854 - val_loss: 0.1237 - val_accuracy: 0.9714\n",
            "Epoch 97/200\n",
            "1/1 - 0s - loss: 0.0558 - accuracy: 0.9896 - val_loss: 0.1237 - val_accuracy: 0.9698\n",
            "Epoch 98/200\n",
            "1/1 - 0s - loss: 0.0534 - accuracy: 0.9896 - val_loss: 0.1237 - val_accuracy: 0.9703\n",
            "Epoch 99/200\n",
            "1/1 - 0s - loss: 0.0537 - accuracy: 0.9854 - val_loss: 0.1238 - val_accuracy: 0.9719\n",
            "Epoch 100/200\n",
            "1/1 - 0s - loss: 0.0552 - accuracy: 0.9875 - val_loss: 0.1240 - val_accuracy: 0.9719\n",
            "Epoch 101/200\n",
            "1/1 - 0s - loss: 0.0566 - accuracy: 0.9875 - val_loss: 0.1238 - val_accuracy: 0.9714\n",
            "Epoch 102/200\n",
            "1/1 - 0s - loss: 0.0577 - accuracy: 0.9896 - val_loss: 0.1234 - val_accuracy: 0.9714\n",
            "Epoch 103/200\n",
            "1/1 - 0s - loss: 0.0563 - accuracy: 0.9875 - val_loss: 0.1231 - val_accuracy: 0.9714\n",
            "Epoch 104/200\n",
            "1/1 - 0s - loss: 0.0616 - accuracy: 0.9875 - val_loss: 0.1226 - val_accuracy: 0.9719\n",
            "Epoch 105/200\n",
            "1/1 - 0s - loss: 0.0558 - accuracy: 0.9875 - val_loss: 0.1224 - val_accuracy: 0.9703\n",
            "Epoch 106/200\n",
            "1/1 - 0s - loss: 0.0473 - accuracy: 0.9896 - val_loss: 0.1224 - val_accuracy: 0.9703\n",
            "Epoch 107/200\n",
            "1/1 - 0s - loss: 0.0576 - accuracy: 0.9896 - val_loss: 0.1226 - val_accuracy: 0.9714\n",
            "Epoch 108/200\n",
            "1/1 - 0s - loss: 0.0560 - accuracy: 0.9854 - val_loss: 0.1241 - val_accuracy: 0.9714\n",
            "Epoch 109/200\n",
            "1/1 - 0s - loss: 0.0556 - accuracy: 0.9875 - val_loss: 0.1254 - val_accuracy: 0.9714\n",
            "Epoch 110/200\n",
            "1/1 - 0s - loss: 0.0492 - accuracy: 0.9875 - val_loss: 0.1253 - val_accuracy: 0.9714\n",
            "Epoch 111/200\n",
            "1/1 - 0s - loss: 0.0499 - accuracy: 0.9896 - val_loss: 0.1247 - val_accuracy: 0.9714\n",
            "Epoch 112/200\n",
            "1/1 - 0s - loss: 0.0543 - accuracy: 0.9896 - val_loss: 0.1247 - val_accuracy: 0.9703\n",
            "Epoch 113/200\n",
            "1/1 - 0s - loss: 0.0513 - accuracy: 0.9875 - val_loss: 0.1258 - val_accuracy: 0.9688\n",
            "Epoch 114/200\n",
            "1/1 - 0s - loss: 0.0479 - accuracy: 0.9916 - val_loss: 0.1261 - val_accuracy: 0.9688\n",
            "Epoch 115/200\n",
            "1/1 - 0s - loss: 0.0593 - accuracy: 0.9854 - val_loss: 0.1258 - val_accuracy: 0.9708\n",
            "Epoch 116/200\n",
            "1/1 - 0s - loss: 0.0532 - accuracy: 0.9875 - val_loss: 0.1271 - val_accuracy: 0.9714\n",
            "Epoch 117/200\n",
            "1/1 - 0s - loss: 0.0531 - accuracy: 0.9896 - val_loss: 0.1275 - val_accuracy: 0.9724\n",
            "Epoch 118/200\n",
            "1/1 - 0s - loss: 0.0566 - accuracy: 0.9875 - val_loss: 0.1262 - val_accuracy: 0.9714\n",
            "Epoch 119/200\n",
            "1/1 - 0s - loss: 0.0619 - accuracy: 0.9875 - val_loss: 0.1242 - val_accuracy: 0.9714\n",
            "Epoch 120/200\n",
            "1/1 - 0s - loss: 0.0574 - accuracy: 0.9896 - val_loss: 0.1234 - val_accuracy: 0.9703\n",
            "Epoch 121/200\n",
            "1/1 - 0s - loss: 0.0617 - accuracy: 0.9791 - val_loss: 0.1228 - val_accuracy: 0.9703\n",
            "Epoch 122/200\n",
            "1/1 - 0s - loss: 0.0564 - accuracy: 0.9875 - val_loss: 0.1226 - val_accuracy: 0.9714\n",
            "Epoch 123/200\n",
            "1/1 - 0s - loss: 0.0504 - accuracy: 0.9854 - val_loss: 0.1230 - val_accuracy: 0.9714\n",
            "Epoch 124/200\n",
            "1/1 - 0s - loss: 0.0532 - accuracy: 0.9896 - val_loss: 0.1233 - val_accuracy: 0.9714\n",
            "Epoch 125/200\n",
            "1/1 - 0s - loss: 0.0481 - accuracy: 0.9896 - val_loss: 0.1237 - val_accuracy: 0.9714\n",
            "Epoch 126/200\n",
            "1/1 - 0s - loss: 0.0585 - accuracy: 0.9896 - val_loss: 0.1231 - val_accuracy: 0.9714\n",
            "Epoch 127/200\n",
            "1/1 - 0s - loss: 0.0544 - accuracy: 0.9896 - val_loss: 0.1228 - val_accuracy: 0.9708\n",
            "Epoch 128/200\n",
            "1/1 - 0s - loss: 0.0545 - accuracy: 0.9896 - val_loss: 0.1228 - val_accuracy: 0.9708\n",
            "Epoch 129/200\n",
            "1/1 - 0s - loss: 0.0553 - accuracy: 0.9896 - val_loss: 0.1226 - val_accuracy: 0.9714\n",
            "Epoch 130/200\n",
            "1/1 - 0s - loss: 0.0582 - accuracy: 0.9896 - val_loss: 0.1225 - val_accuracy: 0.9714\n",
            "Epoch 131/200\n",
            "1/1 - 0s - loss: 0.0515 - accuracy: 0.9875 - val_loss: 0.1227 - val_accuracy: 0.9714\n",
            "Epoch 132/200\n",
            "1/1 - 0s - loss: 0.0563 - accuracy: 0.9875 - val_loss: 0.1230 - val_accuracy: 0.9714\n",
            "Epoch 133/200\n",
            "1/1 - 0s - loss: 0.0492 - accuracy: 0.9896 - val_loss: 0.1233 - val_accuracy: 0.9708\n",
            "Epoch 134/200\n",
            "1/1 - 0s - loss: 0.0539 - accuracy: 0.9896 - val_loss: 0.1238 - val_accuracy: 0.9708\n",
            "Epoch 135/200\n",
            "1/1 - 0s - loss: 0.0538 - accuracy: 0.9896 - val_loss: 0.1241 - val_accuracy: 0.9708\n",
            "Epoch 136/200\n",
            "1/1 - 0s - loss: 0.0640 - accuracy: 0.9833 - val_loss: 0.1245 - val_accuracy: 0.9714\n",
            "Epoch 137/200\n",
            "1/1 - 0s - loss: 0.0507 - accuracy: 0.9875 - val_loss: 0.1250 - val_accuracy: 0.9714\n",
            "Epoch 138/200\n",
            "1/1 - 0s - loss: 0.0462 - accuracy: 0.9875 - val_loss: 0.1253 - val_accuracy: 0.9714\n",
            "Epoch 139/200\n",
            "1/1 - 0s - loss: 0.0485 - accuracy: 0.9896 - val_loss: 0.1254 - val_accuracy: 0.9714\n",
            "Epoch 140/200\n",
            "1/1 - 0s - loss: 0.0478 - accuracy: 0.9896 - val_loss: 0.1256 - val_accuracy: 0.9708\n",
            "Epoch 141/200\n",
            "1/1 - 0s - loss: 0.0582 - accuracy: 0.9875 - val_loss: 0.1262 - val_accuracy: 0.9693\n",
            "Epoch 142/200\n",
            "1/1 - 0s - loss: 0.0521 - accuracy: 0.9875 - val_loss: 0.1265 - val_accuracy: 0.9693\n",
            "Epoch 143/200\n",
            "1/1 - 0s - loss: 0.0522 - accuracy: 0.9875 - val_loss: 0.1261 - val_accuracy: 0.9714\n",
            "Epoch 144/200\n",
            "1/1 - 0s - loss: 0.0529 - accuracy: 0.9854 - val_loss: 0.1264 - val_accuracy: 0.9708\n",
            "Epoch 145/200\n",
            "1/1 - 0s - loss: 0.0538 - accuracy: 0.9896 - val_loss: 0.1269 - val_accuracy: 0.9714\n",
            "Epoch 146/200\n",
            "1/1 - 0s - loss: 0.0582 - accuracy: 0.9854 - val_loss: 0.1278 - val_accuracy: 0.9714\n",
            "Epoch 147/200\n",
            "1/1 - 0s - loss: 0.0551 - accuracy: 0.9896 - val_loss: 0.1279 - val_accuracy: 0.9714\n",
            "Epoch 148/200\n",
            "1/1 - 0s - loss: 0.0455 - accuracy: 0.9896 - val_loss: 0.1273 - val_accuracy: 0.9714\n",
            "Epoch 149/200\n",
            "1/1 - 0s - loss: 0.0612 - accuracy: 0.9875 - val_loss: 0.1252 - val_accuracy: 0.9714\n",
            "Epoch 150/200\n",
            "1/1 - 0s - loss: 0.0576 - accuracy: 0.9854 - val_loss: 0.1241 - val_accuracy: 0.9714\n",
            "Epoch 151/200\n",
            "1/1 - 0s - loss: 0.0499 - accuracy: 0.9875 - val_loss: 0.1241 - val_accuracy: 0.9682\n",
            "Epoch 152/200\n",
            "1/1 - 0s - loss: 0.0510 - accuracy: 0.9916 - val_loss: 0.1239 - val_accuracy: 0.9688\n",
            "Epoch 153/200\n",
            "1/1 - 0s - loss: 0.0536 - accuracy: 0.9875 - val_loss: 0.1238 - val_accuracy: 0.9714\n",
            "Epoch 154/200\n",
            "1/1 - 0s - loss: 0.0624 - accuracy: 0.9875 - val_loss: 0.1243 - val_accuracy: 0.9714\n",
            "Epoch 155/200\n",
            "1/1 - 0s - loss: 0.0552 - accuracy: 0.9896 - val_loss: 0.1249 - val_accuracy: 0.9714\n",
            "Epoch 156/200\n",
            "1/1 - 0s - loss: 0.0515 - accuracy: 0.9875 - val_loss: 0.1251 - val_accuracy: 0.9714\n",
            "Epoch 157/200\n",
            "1/1 - 0s - loss: 0.0502 - accuracy: 0.9875 - val_loss: 0.1250 - val_accuracy: 0.9714\n",
            "Epoch 158/200\n",
            "1/1 - 0s - loss: 0.0562 - accuracy: 0.9896 - val_loss: 0.1252 - val_accuracy: 0.9714\n",
            "Epoch 159/200\n",
            "1/1 - 0s - loss: 0.0500 - accuracy: 0.9896 - val_loss: 0.1256 - val_accuracy: 0.9708\n",
            "Epoch 160/200\n",
            "1/1 - 0s - loss: 0.0473 - accuracy: 0.9896 - val_loss: 0.1263 - val_accuracy: 0.9708\n",
            "Epoch 161/200\n",
            "1/1 - 0s - loss: 0.0516 - accuracy: 0.9875 - val_loss: 0.1267 - val_accuracy: 0.9708\n",
            "Epoch 162/200\n",
            "1/1 - 0s - loss: 0.0474 - accuracy: 0.9896 - val_loss: 0.1269 - val_accuracy: 0.9714\n",
            "Epoch 163/200\n",
            "1/1 - 0s - loss: 0.0493 - accuracy: 0.9875 - val_loss: 0.1274 - val_accuracy: 0.9698\n",
            "Epoch 164/200\n",
            "1/1 - 0s - loss: 0.0575 - accuracy: 0.9854 - val_loss: 0.1275 - val_accuracy: 0.9703\n",
            "Epoch 165/200\n",
            "1/1 - 0s - loss: 0.0520 - accuracy: 0.9896 - val_loss: 0.1275 - val_accuracy: 0.9703\n",
            "Epoch 166/200\n",
            "1/1 - 0s - loss: 0.0569 - accuracy: 0.9854 - val_loss: 0.1272 - val_accuracy: 0.9708\n",
            "Epoch 167/200\n",
            "1/1 - 0s - loss: 0.0484 - accuracy: 0.9896 - val_loss: 0.1272 - val_accuracy: 0.9708\n",
            "Epoch 168/200\n",
            "1/1 - 0s - loss: 0.0500 - accuracy: 0.9875 - val_loss: 0.1266 - val_accuracy: 0.9708\n",
            "Epoch 169/200\n",
            "1/1 - 0s - loss: 0.0549 - accuracy: 0.9875 - val_loss: 0.1255 - val_accuracy: 0.9714\n",
            "Epoch 170/200\n",
            "1/1 - 0s - loss: 0.0515 - accuracy: 0.9875 - val_loss: 0.1247 - val_accuracy: 0.9714\n",
            "Epoch 171/200\n",
            "1/1 - 0s - loss: 0.0491 - accuracy: 0.9896 - val_loss: 0.1242 - val_accuracy: 0.9714\n",
            "Epoch 172/200\n",
            "1/1 - 0s - loss: 0.0536 - accuracy: 0.9875 - val_loss: 0.1240 - val_accuracy: 0.9708\n",
            "Epoch 173/200\n",
            "1/1 - 0s - loss: 0.0501 - accuracy: 0.9875 - val_loss: 0.1241 - val_accuracy: 0.9703\n",
            "Epoch 174/200\n",
            "1/1 - 0s - loss: 0.0530 - accuracy: 0.9916 - val_loss: 0.1241 - val_accuracy: 0.9714\n",
            "Epoch 175/200\n",
            "1/1 - 0s - loss: 0.0494 - accuracy: 0.9875 - val_loss: 0.1242 - val_accuracy: 0.9714\n",
            "Epoch 176/200\n",
            "1/1 - 0s - loss: 0.0517 - accuracy: 0.9875 - val_loss: 0.1244 - val_accuracy: 0.9714\n",
            "Epoch 177/200\n",
            "1/1 - 0s - loss: 0.0545 - accuracy: 0.9896 - val_loss: 0.1245 - val_accuracy: 0.9714\n",
            "Epoch 178/200\n",
            "1/1 - 0s - loss: 0.0524 - accuracy: 0.9875 - val_loss: 0.1250 - val_accuracy: 0.9714\n",
            "Epoch 179/200\n",
            "1/1 - 0s - loss: 0.0528 - accuracy: 0.9896 - val_loss: 0.1252 - val_accuracy: 0.9714\n",
            "Epoch 180/200\n",
            "1/1 - 0s - loss: 0.0533 - accuracy: 0.9896 - val_loss: 0.1253 - val_accuracy: 0.9708\n",
            "Epoch 181/200\n",
            "1/1 - 0s - loss: 0.0496 - accuracy: 0.9896 - val_loss: 0.1254 - val_accuracy: 0.9708\n",
            "Epoch 182/200\n",
            "1/1 - 0s - loss: 0.0528 - accuracy: 0.9896 - val_loss: 0.1252 - val_accuracy: 0.9708\n",
            "Epoch 183/200\n",
            "1/1 - 0s - loss: 0.0540 - accuracy: 0.9854 - val_loss: 0.1254 - val_accuracy: 0.9714\n",
            "Epoch 184/200\n",
            "1/1 - 0s - loss: 0.0422 - accuracy: 0.9896 - val_loss: 0.1258 - val_accuracy: 0.9708\n",
            "Epoch 185/200\n",
            "1/1 - 0s - loss: 0.0550 - accuracy: 0.9896 - val_loss: 0.1261 - val_accuracy: 0.9714\n",
            "Epoch 186/200\n",
            "1/1 - 0s - loss: 0.0510 - accuracy: 0.9896 - val_loss: 0.1266 - val_accuracy: 0.9693\n",
            "Epoch 187/200\n",
            "1/1 - 0s - loss: 0.0528 - accuracy: 0.9896 - val_loss: 0.1273 - val_accuracy: 0.9688\n",
            "Epoch 188/200\n",
            "1/1 - 0s - loss: 0.0493 - accuracy: 0.9916 - val_loss: 0.1276 - val_accuracy: 0.9693\n",
            "Epoch 189/200\n",
            "1/1 - 0s - loss: 0.0515 - accuracy: 0.9896 - val_loss: 0.1278 - val_accuracy: 0.9714\n",
            "Epoch 190/200\n",
            "1/1 - 0s - loss: 0.0476 - accuracy: 0.9875 - val_loss: 0.1279 - val_accuracy: 0.9714\n",
            "Epoch 191/200\n",
            "1/1 - 0s - loss: 0.0445 - accuracy: 0.9896 - val_loss: 0.1280 - val_accuracy: 0.9714\n",
            "Epoch 192/200\n",
            "1/1 - 0s - loss: 0.0480 - accuracy: 0.9896 - val_loss: 0.1280 - val_accuracy: 0.9714\n",
            "Epoch 193/200\n",
            "1/1 - 0s - loss: 0.0635 - accuracy: 0.9875 - val_loss: 0.1274 - val_accuracy: 0.9708\n",
            "Epoch 194/200\n",
            "1/1 - 0s - loss: 0.0519 - accuracy: 0.9875 - val_loss: 0.1269 - val_accuracy: 0.9708\n",
            "Epoch 195/200\n",
            "1/1 - 0s - loss: 0.0464 - accuracy: 0.9875 - val_loss: 0.1265 - val_accuracy: 0.9708\n",
            "Epoch 196/200\n",
            "1/1 - 0s - loss: 0.0517 - accuracy: 0.9875 - val_loss: 0.1264 - val_accuracy: 0.9693\n",
            "Epoch 197/200\n",
            "1/1 - 0s - loss: 0.0504 - accuracy: 0.9875 - val_loss: 0.1262 - val_accuracy: 0.9693\n",
            "Epoch 198/200\n",
            "1/1 - 0s - loss: 0.0472 - accuracy: 0.9916 - val_loss: 0.1261 - val_accuracy: 0.9714\n",
            "Epoch 199/200\n",
            "1/1 - 0s - loss: 0.0577 - accuracy: 0.9854 - val_loss: 0.1263 - val_accuracy: 0.9708\n",
            "Epoch 200/200\n",
            "1/1 - 0s - loss: 0.0568 - accuracy: 0.9875 - val_loss: 0.1262 - val_accuracy: 0.9714\n"
          ],
          "name": "stdout"
        }
      ]
    },
    {
      "cell_type": "code",
      "metadata": {
        "id": "FUKCkgyAjFGS"
      },
      "source": [
        ""
      ],
      "execution_count": 64,
      "outputs": []
    },
    {
      "cell_type": "code",
      "metadata": {
        "id": "HABKt3ErBSjA"
      },
      "source": [
        "!pip install streamlit"
      ],
      "execution_count": null,
      "outputs": []
    },
    {
      "cell_type": "code",
      "metadata": {
        "colab": {
          "base_uri": "https://localhost:8080/"
        },
        "id": "iOLRIEmWB9VD",
        "outputId": "3426b437-e9b2-433b-91c6-f4e8d8f381da"
      },
      "source": [
        "#!pip install pyngrok"
      ],
      "execution_count": null,
      "outputs": [
        {
          "output_type": "stream",
          "text": [
            "Requirement already satisfied: pyngrok in /usr/local/lib/python3.7/dist-packages (5.0.5)\n",
            "Requirement already satisfied: PyYAML in /usr/local/lib/python3.7/dist-packages (from pyngrok) (3.13)\n"
          ],
          "name": "stdout"
        }
      ]
    },
    {
      "cell_type": "code",
      "metadata": {
        "colab": {
          "base_uri": "https://localhost:8080/"
        },
        "id": "8SG-oTZxCLtY",
        "outputId": "790e9019-08e2-4ff3-ce24-d6f360a7a5c2"
      },
      "source": [
        "%%writefile app.py\n",
        "import streamlit as st"
      ],
      "execution_count": null,
      "outputs": [
        {
          "output_type": "stream",
          "text": [
            "Overwriting app.py\n"
          ],
          "name": "stdout"
        }
      ]
    },
    {
      "cell_type": "code",
      "metadata": {
        "id": "G4PpvvfV2WpQ",
        "colab": {
          "base_uri": "https://localhost:8080/"
        },
        "outputId": "baf5cb13-9c73-485f-f85e-53cb59e31dd2"
      },
      "source": [
        "#!ls"
      ],
      "execution_count": null,
      "outputs": [
        {
          "output_type": "stream",
          "text": [
            "app.py\tdrive  sample_data\n"
          ],
          "name": "stdout"
        }
      ]
    },
    {
      "cell_type": "code",
      "metadata": {
        "colab": {
          "base_uri": "https://localhost:8080/"
        },
        "id": "RAtBhFZLD24c",
        "outputId": "7d353b79-8cfe-4725-90ba-99a9ea04f977"
      },
      "source": [
        "#!ngrok authtoken xxxxx"
      ],
      "execution_count": null,
      "outputs": [
        {
          "output_type": "stream",
          "text": [
            "Authtoken saved to configuration file: /root/.ngrok2/ngrok.yml\n"
          ],
          "name": "stdout"
        }
      ]
    },
    {
      "cell_type": "code",
      "metadata": {
        "id": "1bXkA6OtESMd"
      },
      "source": [
        "#!ngrok"
      ],
      "execution_count": null,
      "outputs": []
    },
    {
      "cell_type": "code",
      "metadata": {
        "colab": {
          "base_uri": "https://localhost:8080/"
        },
        "id": "57OvZXYTE888",
        "outputId": "c16f0a59-0736-41f7-acfb-053709e278e0"
      },
      "source": [
        "from pyngrok import ngrok\n",
        "!streamlit run app.py\n",
        "public_url = ngrok.connect(port = '8080')\n"
      ],
      "execution_count": null,
      "outputs": [
        {
          "output_type": "stream",
          "text": [
            "\u001b[0m\n",
            "\u001b[34m\u001b[1m  You can now view your Streamlit app in your browser.\u001b[0m\n",
            "\u001b[0m\n",
            "\u001b[34m  Network URL: \u001b[0m\u001b[1mhttp://172.28.0.2:8501\u001b[0m\n",
            "\u001b[34m  External URL: \u001b[0m\u001b[1mhttp://35.229.97.218:8501\u001b[0m\n",
            "\u001b[0m\n"
          ],
          "name": "stdout"
        }
      ]
    },
    {
      "cell_type": "code",
      "metadata": {
        "id": "CvkIKp3CG7IV"
      },
      "source": [
        "!pgrep streamlit"
      ],
      "execution_count": null,
      "outputs": []
    },
    {
      "cell_type": "code",
      "metadata": {
        "id": "zwukGBBFDoSG"
      },
      "source": [
        "public_url"
      ],
      "execution_count": null,
      "outputs": []
    },
    {
      "cell_type": "code",
      "metadata": {
        "id": "c1UGEp-6LbQE"
      },
      "source": [
        "#!ngrok kill"
      ],
      "execution_count": null,
      "outputs": []
    }
  ]
}